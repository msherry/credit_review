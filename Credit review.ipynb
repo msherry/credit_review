{
 "metadata": {
  "name": "",
  "signature": "sha256:7abf1d2611ae2d65267c31034960f48d034ba012851391ec5fe2e0fc518f74d2"
 },
 "nbformat": 3,
 "nbformat_minor": 0,
 "worksheets": [
  {
   "cells": [
    {
     "cell_type": "code",
     "collapsed": true,
     "input": [
      "filename = '/Users/msherry/Desktop/2014-10-29 Daily bank Debits and Credits Review.csv'"
     ],
     "language": "python",
     "metadata": {},
     "outputs": []
    },
    {
     "cell_type": "code",
     "collapsed": true,
     "input": [
      "from datetime import datetime\n",
      "import locale\n",
      "import re\n",
      "\n",
      "import dateutil.parser\n",
      "from bs4 import BeautifulSoup\n",
      "from IPython.display import HTML\n",
      "import pandas as pd\n",
      "\n",
      "setup_env()\n",
      "\n",
      "df = pd.read_csv(filename, parse_dates=True, converters={'money': lambda x: int(re.sub(r'[$.,]', '', x))})\n",
      "\n",
      "ages = get_mp_ages(df)\n",
      "\n",
      "pt = df.pivot_table(values='money', index=['marketplace_name', 'marketplace_guid'], \n",
      "                    columns=['transaction_type'], aggfunc=[as_currency(sum), as_currency(max), len], \n",
      "                    fill_value=0, margins=True)\n",
      "cur = pt[pt.columns.levels[0][0]]\n",
      "for level in pt.columns.levels[0][1:]:\n",
      "    cur = cur.join(pt[level], rsuffix='_{}'.format(level))\n",
      "pt = cur"
     ],
     "language": "python",
     "metadata": {},
     "outputs": []
    },
    {
     "cell_type": "code",
     "collapsed": false,
     "input": [
      "new = pt.ix[:, [c for c in pt.columns if any(x in c for x in ['DEBIT', 'REVERSAL'])]]\n",
      "HTML(link_marketplace_table(new[(new.DEBIT > 0) | (new.REVERSAL > 0)], ages=ages))"
     ],
     "language": "python",
     "metadata": {},
     "outputs": []
    },
    {
     "cell_type": "code",
     "collapsed": false,
     "input": [
      "new = pt.ix[:, [c for c in pt.columns if any(x in c for x in ['CREDIT'])]]\n",
      "HTML(link_marketplace_table(new[(new.CREDIT > 0)], ages=ages))"
     ],
     "language": "python",
     "metadata": {},
     "outputs": []
    },
    {
     "cell_type": "code",
     "collapsed": false,
     "input": [
      "def setup_env():\n",
      "    locale.setlocale(locale.LC_ALL, '')\n",
      "    pd.set_option('display.max_rows', 500)\n",
      "    pd.set_option('display.notebook_repr_html', True)    # default=True"
     ],
     "language": "python",
     "metadata": {},
     "outputs": []
    },
    {
     "cell_type": "code",
     "collapsed": false,
     "input": [
      "def find_color(age, max_age):\n",
      "    colors = [\n",
      "        (252, 41, 53),\n",
      "        (255, 255, 47),\n",
      "        (48, 252, 58),\n",
      "    ]\n",
      "    pct = min(age, max_age) / float(max_age)\n",
      "    gap = int(pct * (len(colors) - 2))\n",
      "    color1 = colors[gap]\n",
      "    color2 = colors[gap + 1]\n",
      "\n",
      "    color = tuple([c1 + int(pct * (c2 - c1)) for c1, c2 in zip(color1, color2)])\n",
      "    return color\n",
      "\n",
      "def link_marketplace_table(table, ages=None):\n",
      "    # Munge HTML\n",
      "    html = table.to_html()\n",
      "    soup = BeautifulSoup(html)\n",
      "\n",
      "    for tr in soup.findAll('tr'):\n",
      "        th_children = tr.findChildren('th')\n",
      "        name, guid = th_children[0], th_children[1]\n",
      "        mp_guid = None\n",
      "        if guid.text and guid.text != 'marketplace_guid':\n",
      "            mp_guid = guid.text\n",
      "            # Valid mp name/guid pair - create a new tag to hold them\n",
      "            new_str = soup.new_tag('a', href='https://dp.balancedpayments.com/#/marketplaces/{}/transactions'.format(mp_guid))\n",
      "            new_str.string = name.text\n",
      "        else:\n",
      "            new_str = name.text\n",
      "        \n",
      "        th = soup.new_tag('th')\n",
      "        th.insert(0, new_str) # Insert the new string/tag\n",
      "        if ages and mp_guid:\n",
      "            age = ages[mp_guid]\n",
      "            color = find_color(age, 365)\n",
      "            th['bgcolor'] = '#%02X%02X%02X' % (color[0], color[1], color[2])\n",
      "\n",
      "        # Complete crap\n",
      "        tr.insert(0, th)\n",
      "        tr.findChildren('th')[1].decompose()\n",
      "        tr.findChildren('th')[1].decompose()\n",
      "    return soup.prettify()"
     ],
     "language": "python",
     "metadata": {},
     "outputs": []
    },
    {
     "cell_type": "code",
     "collapsed": false,
     "input": [
      "def as_currency(func):\n",
      "    f = lambda x: locale.currency(func(x)/100., grouping=True)\n",
      "    # Can't have duplicate names in aggfunc, apparently\n",
      "    f.__name__ = func.__name__\n",
      "    return f"
     ],
     "language": "python",
     "metadata": {},
     "outputs": []
    },
    {
     "cell_type": "code",
     "collapsed": false,
     "input": [
      "def get_mp_ages(df):\n",
      "    def age(ts):\n",
      "        return (datetime.utcnow() - dateutil.parser.parse(ts)).days\n",
      "    created_at = df.pivot_table(values='marketplace_created_at', index=['marketplace_guid'], aggfunc=min)\n",
      "    ages = {mp_guid: age(ca) for mp_guid, ca in created_at.iteritems()}\n",
      "    return ages\n"
     ],
     "language": "python",
     "metadata": {},
     "outputs": []
    }
   ],
   "metadata": {}
  }
 ]
}