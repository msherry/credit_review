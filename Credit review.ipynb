{
 "metadata": {
  "name": "",
  "signature": "sha256:2b4f7bbce9803274da9c34c7bbe63c48765a87a829b00e5c56cd6604d582bc19"
 },
 "nbformat": 3,
 "nbformat_minor": 0,
 "worksheets": [
  {
   "cells": [
    {
     "cell_type": "code",
     "collapsed": true,
     "input": [
      "filename = '/Users/msherry/Desktop/2014-10-28 Daily bank Debits and Credits Review.csv'"
     ],
     "language": "python",
     "metadata": {},
     "outputs": []
    },
    {
     "cell_type": "code",
     "collapsed": true,
     "input": [
      "import locale\n",
      "import re\n",
      "\n",
      "from bs4 import BeautifulSoup\n",
      "from IPython.display import HTML\n",
      "import pandas as pd\n",
      "\n",
      "def link_marketplace_table(table):\n",
      "    # Munge HTML\n",
      "    html = table.to_html()\n",
      "    soup = BeautifulSoup(html)\n",
      "\n",
      "    for tr in soup.findAll('tr'):\n",
      "        th_children = tr.findChildren('th')\n",
      "        name, guid = th_children[0], th_children[1]\n",
      "        if guid.text and guid.text != 'marketplace_guid':\n",
      "            # Valid mp name/guid pair - create a new tag to hold them\n",
      "            new_str = soup.new_tag('a', href='https://dp.balancedpayments.com/#/marketplaces/{}/transactions'.format(guid.text))\n",
      "            new_str.string = name.text\n",
      "            \n",
      "            # Linkify url\n",
      "            #a = url.text\n",
      "            #if not a.startswith('http'):\n",
      "            #    a = 'http://{}'.format(a)\n",
      "            #new_a = soup.new_tag('a', href=a)\n",
      "            #new_a.string = url.text\n",
      "            #new_th = soup.new_tag('th')\n",
      "            #new_th.insert(0, new_a)\n",
      "            #url.replaceWith(new_th)\n",
      "        else:\n",
      "            new_str = name.text\n",
      "        \n",
      "        th = soup.new_tag('th')\n",
      "        th.insert(0, new_str) # Insert the new string/tag\n",
      "\n",
      "        # Complete crap\n",
      "        tr.insert(0, th)\n",
      "        tr.findChildren('th')[1].decompose()\n",
      "        tr.findChildren('th')[1].decompose()\n",
      "    return soup.prettify()\n",
      "\n",
      "def as_currency(func):\n",
      "    f = lambda x: locale.currency(func(x)/100., grouping=True)\n",
      "    # Can't have duplicate names in aggfunc, apparently\n",
      "    f.__name__ = func.__name__\n",
      "    return f\n",
      "\n",
      "locale.setlocale(locale.LC_ALL, '')\n",
      "\n",
      "pd.set_option('display.max_rows', 500)\n",
      "pd.set_option('display.notebook_repr_html', True)    # default=True\n",
      "\n",
      "df = pd.read_csv(filename, parse_dates=True, converters={'money': lambda x: int(re.sub(r'[$.,]', '', x))})\n",
      "pt = df.pivot_table(values='money', index=['marketplace_name', 'marketplace_guid'], \n",
      "                    columns=['transaction_type'], aggfunc=[as_currency(sum), as_currency(max), len], \n",
      "                    fill_value=0, margins=True)\n",
      "cur = pt[pt.columns.levels[0][0]]\n",
      "for level in pt.columns.levels[0][1:]:\n",
      "    cur = cur.join(pt[level], rsuffix='_{}'.format(level))\n",
      "pt = cur"
     ],
     "language": "python",
     "metadata": {},
     "outputs": []
    },
    {
     "cell_type": "code",
     "collapsed": false,
     "input": [
      "new = pt.ix[:, [c for c in pt.columns if any(x in c for x in ['DEBIT', 'REVERSAL'])]]\n",
      "new = new[(new.DEBIT > 0) | (new.REVERSAL > 0)]\n",
      "HTML(link_marketplace_table(new))"
     ],
     "language": "python",
     "metadata": {},
     "outputs": []
    },
    {
     "cell_type": "code",
     "collapsed": false,
     "input": [
      "new = pt.ix[:, [c for c in pt.columns if any(x in c for x in ['CREDIT'])]]\n",
      "HTML(link_marketplace_table(new[(new.CREDIT > 0)]))"
     ],
     "language": "python",
     "metadata": {},
     "outputs": []
    }
   ],
   "metadata": {}
  }
 ]
}